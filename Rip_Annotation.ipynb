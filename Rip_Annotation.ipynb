{
  "cells": [
    {
      "cell_type": "markdown",
      "metadata": {
        "id": "view-in-github",
        "colab_type": "text"
      },
      "source": [
        "<a href=\"https://colab.research.google.com/github/joseff-saunders/Rip-Detection/blob/master/Rip_Annotation.ipynb\" target=\"_parent\"><img src=\"https://colab.research.google.com/assets/colab-badge.svg\" alt=\"Open In Colab\"/></a>"
      ]
    },
    {
      "cell_type": "code",
      "source": [
        "%pip install jupyter_bbox_widget"
      ],
      "metadata": {
        "id": "gVMUb4C8-rE1"
      },
      "id": "gVMUb4C8-rE1",
      "execution_count": null,
      "outputs": []
    },
    {
      "cell_type": "code",
      "execution_count": null,
      "id": "375630f6",
      "metadata": {
        "tags": [],
        "id": "375630f6"
      },
      "outputs": [],
      "source": [
        "# Storage for annotationsfrom jupyter_bbox_widget import BBoxWidget\n",
        "from jupyter_bbox_widget import BBoxWidget\n",
        "import ipywidgets as widgets\n",
        "import os\n",
        "import json\n",
        "import shutil\n",
        "from IPython.display import display"
      ]
    },
    {
      "cell_type": "code",
      "source": [
        "# Clone the GitHub repository (only needed once per session)\n",
        "if not os.path.exists(\"/content/Rip\"):\n",
        "    !git clone https://github.com/joseff-saunders/Rip-Detection.git"
      ],
      "metadata": {
        "id": "xur3vpMmARw3"
      },
      "id": "xur3vpMmARw3",
      "execution_count": null,
      "outputs": []
    },
    {
      "cell_type": "code",
      "execution_count": 22,
      "id": "48851706",
      "metadata": {
        "tags": [],
        "id": "48851706"
      },
      "outputs": [],
      "source": [
        "# Paths\n",
        "image_folder = \"/content/Rip\"\n",
        "processed_folder = os.path.join(image_folder, \"Processed\")\n",
        "skip_folder = os.path.join(image_folder, \"Skip\")\n",
        "annotations_path = \"Rip/rip_current_annotations.json\"\n",
        "\n",
        "# Ensure processed folder exists\n",
        "os.makedirs(processed_folder, exist_ok=True)\n",
        "os.makedirs(skip_folder, exist_ok=True)\n",
        "\n",
        "# Load existing annotations if available\n",
        "if os.path.exists(annotations_path):\n",
        "    with open(annotations_path, \"r\") as f:\n",
        "        annotations = json.load(f)\n",
        "else:\n",
        "    annotations = {}"
      ]
    },
    {
      "cell_type": "code",
      "execution_count": null,
      "id": "37fbe8df",
      "metadata": {
        "id": "37fbe8df"
      },
      "outputs": [],
      "source": [
        "# Function to get remaining images\n",
        "def get_image_files():\n",
        "    return sorted([f for f in os.listdir(image_folder)\n",
        "                   if f.endswith(('.jpg', '.png', '.tif'))])\n",
        "\n",
        "# Initialise image list\n",
        "image_files = get_image_files()\n",
        "\n",
        "# Check if images exist\n",
        "if not image_files:\n",
        "    print(\"No new images to annotate in\", image_folder)\n",
        "else:\n",
        "    print(f\"Found {len(image_files)} unprocessed images.\")"
      ]
    },
    {
      "cell_type": "code",
      "execution_count": null,
      "id": "541c4d35",
      "metadata": {
        "id": "541c4d35"
      },
      "outputs": [],
      "source": [
        "# Progress bar - doesn't seem to work\n",
        "w_progress = widgets.IntProgress(value=0, max=len(image_files), description=\"Progress\")\n",
        "\n",
        "# Initialize annotation widget\n",
        "if image_files:\n",
        "    w_bbox = BBoxWidget(\n",
        "        image=os.path.join(image_folder, image_files[0]),\n",
        "        classes=[\"Rip Current\"]\n",
        "    )\n",
        "else:\n",
        "    w_bbox = BBoxWidget(classes=[\"Rip Current\"])  # Empty widget if no images found\n",
        "\n",
        "# Combine widgets\n",
        "w_message = widgets.HTML(\"\")\n",
        "w_container = widgets.VBox([w_progress, w_bbox, w_message])"
      ]
    },
    {
      "cell_type": "code",
      "execution_count": null,
      "id": "6676a76a",
      "metadata": {
        "id": "6676a76a"
      },
      "outputs": [],
      "source": [
        "# Function to move an image and update list\n",
        "def move_image(image_file, destination_folder):\n",
        "    src_path = os.path.join(image_folder, image_file)\n",
        "    dst_path = os.path.join(destination_folder, image_file)\n",
        "    shutil.move(src_path, dst_path)\n",
        "\n",
        "    # Refresh remaining images list\n",
        "    global image_files\n",
        "    image_files = get_image_files()\n",
        "    w_progress.max = len(image_files)\n",
        "\n",
        "# Function to finish annotation process\n",
        "def finish_annotation():\n",
        "    w_message.value = \"<b>🎉 Congratulations! All images have been processed. 🎉</b>\"\n",
        "    w_container.children = (w_message,)  # Remove all widgets except the message\n",
        "    print(\"Annotations saved. Closing widget.\")\n",
        "\n",
        "# Function to load the next image\n",
        "def load_next_image():\n",
        "    if image_files:\n",
        "        w_bbox.image = os.path.join(image_folder, image_files[0])\n",
        "        w_bbox.bboxes = []  # Reset bounding boxes\n",
        "    else:\n",
        "        finish_annotation()\n",
        "\n",
        "# Function to skip image\n",
        "@w_bbox.on_skip\n",
        "def skip():\n",
        "    if not image_files:\n",
        "        return\n",
        "\n",
        "    image_file = image_files[0]  # Get first image in list\n",
        "    move_image(image_file, skip_folder)  # Move skipped image\n",
        "\n",
        "    # Update progress bar AFTER the image is skipped\n",
        "    w_progress.value += 1\n",
        "    load_next_image()\n",
        "\n",
        "# Function to submit annotation\n",
        "@w_bbox.on_submit\n",
        "def submit():\n",
        "    if not w_bbox.bboxes:  # Check if the annotation list is empty\n",
        "        w_message.value = \"<b style='color: red;'>⚠️ Please annotate before submitting!</b>\"\n",
        "        return  # Stop function execution\n",
        "\n",
        "    image_file = image_files[0]\n",
        "    annotations[image_file] = w_bbox.bboxes\n",
        "\n",
        "    # Save annotations to file\n",
        "    with open(annotations_path, \"w\") as f:\n",
        "        json.dump(annotations, f, indent=4)\n",
        "\n",
        "    # Move image to processed folder\n",
        "    move_image(image_file, processed_folder)\n",
        "\n",
        "    # Update progress bar AFTER the image is processed\n",
        "    w_progress.value += 1\n",
        "\n",
        "    # Clear error message if any\n",
        "    w_message.value = \"\"\n",
        "\n",
        "    # Load next image\n",
        "    load_next_image()"
      ]
    },
    {
      "cell_type": "code",
      "execution_count": null,
      "id": "8faba7f4",
      "metadata": {
        "id": "8faba7f4"
      },
      "outputs": [],
      "source": [
        "# Display annotation UI\n",
        "display(w_container)"
      ]
    },
    {
      "cell_type": "code",
      "execution_count": null,
      "id": "26546397",
      "metadata": {
        "id": "26546397"
      },
      "outputs": [],
      "source": [
        "with open(annotations_path, 'r') as f:\n",
        "    print(f.read())"
      ]
    },
    {
      "cell_type": "code",
      "execution_count": null,
      "id": "f380f4b1",
      "metadata": {
        "id": "f380f4b1"
      },
      "outputs": [],
      "source": []
    }
  ],
  "metadata": {
    "kernelspec": {
      "display_name": "Python 3 (ipykernel)",
      "language": "python",
      "name": "python3"
    },
    "language_info": {
      "codemirror_mode": {
        "name": "ipython",
        "version": 3
      },
      "file_extension": ".py",
      "mimetype": "text/x-python",
      "name": "python",
      "nbconvert_exporter": "python",
      "pygments_lexer": "ipython3",
      "version": "3.8.12"
    },
    "colab": {
      "provenance": [],
      "include_colab_link": true
    }
  },
  "nbformat": 4,
  "nbformat_minor": 5
}